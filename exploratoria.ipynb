{
 "cells": [
  {
   "cell_type": "markdown",
   "metadata": {},
   "source": [
    "# Para o trabalho da disciplina Introdução a Ciência de Dados, será feita uma análise exploratória a partir de um banco de dados de livre escolha. Para tal trabalho foi escolhida movimentação de tréfego internacional referente ao mês de dezembro do ano de 2023, a partir de dados coletados em relação ao Brasil."
   ]
  },
  {
   "cell_type": "markdown",
   "metadata": {},
   "source": [
    "## Em primeira instância foram importadas as bibliotecas necessária para leitura do arquivos, cálculos matemáticos e construção de gráficos"
   ]
  },
  {
   "cell_type": "code",
   "execution_count": 6,
   "metadata": {},
   "outputs": [],
   "source": [
    "import pandas as pd\n",
    "import numpy as np\n",
    "import matplotlib.pyplot as plt"
   ]
  },
  {
   "cell_type": "markdown",
   "metadata": {},
   "source": [
    "## Com a biblioteca pandas foi possível a leitura do banco de dados disponível em (\"https://servicos.dpf.gov.br/dadosabertos/STI/\"), e assim foi criado um dataframe."
   ]
  },
  {
   "cell_type": "code",
   "execution_count": 7,
   "metadata": {},
   "outputs": [],
   "source": [
    "df_sti = pd.read_csv('STI_MOVIMENTO_2023_12.csv', delimiter=';', encoding='latin-1')"
   ]
  },
  {
   "cell_type": "markdown",
   "metadata": {},
   "source": [
    "## Para verificação do carregamento correto de todos os dados no dataframe foram utilizados os comandos head() e tail(), que permitem a visualização dos primeiros e ultimos dados do dataframe, respectivamente."
   ]
  },
  {
   "cell_type": "code",
   "execution_count": 8,
   "metadata": {},
   "outputs": [
    {
     "data": {
      "text/html": [
       "<div>\n",
       "<style scoped>\n",
       "    .dataframe tbody tr th:only-of-type {\n",
       "        vertical-align: middle;\n",
       "    }\n",
       "\n",
       "    .dataframe tbody tr th {\n",
       "        vertical-align: top;\n",
       "    }\n",
       "\n",
       "    .dataframe thead th {\n",
       "        text-align: right;\n",
       "    }\n",
       "</style>\n",
       "<table border=\"1\" class=\"dataframe\">\n",
       "  <thead>\n",
       "    <tr style=\"text-align: right;\">\n",
       "      <th></th>\n",
       "      <th>UF_ATENDIMENTO</th>\n",
       "      <th>TIPO</th>\n",
       "      <th>CLASSIFICACAO</th>\n",
       "      <th>NACIONALIDADE</th>\n",
       "      <th>TOTAL</th>\n",
       "    </tr>\n",
       "  </thead>\n",
       "  <tbody>\n",
       "    <tr>\n",
       "      <th>0</th>\n",
       "      <td>AC</td>\n",
       "      <td>ENTRADA</td>\n",
       "      <td>PERMANENTE</td>\n",
       "      <td>BOLÍVIA</td>\n",
       "      <td>17</td>\n",
       "    </tr>\n",
       "    <tr>\n",
       "      <th>1</th>\n",
       "      <td>AC</td>\n",
       "      <td>ENTRADA</td>\n",
       "      <td>PERMANENTE</td>\n",
       "      <td>CHILE</td>\n",
       "      <td>1</td>\n",
       "    </tr>\n",
       "    <tr>\n",
       "      <th>2</th>\n",
       "      <td>AC</td>\n",
       "      <td>ENTRADA</td>\n",
       "      <td>PERMANENTE</td>\n",
       "      <td>COLÔMBIA</td>\n",
       "      <td>3</td>\n",
       "    </tr>\n",
       "    <tr>\n",
       "      <th>3</th>\n",
       "      <td>AC</td>\n",
       "      <td>ENTRADA</td>\n",
       "      <td>PERMANENTE</td>\n",
       "      <td>CUBA</td>\n",
       "      <td>1</td>\n",
       "    </tr>\n",
       "    <tr>\n",
       "      <th>4</th>\n",
       "      <td>AC</td>\n",
       "      <td>ENTRADA</td>\n",
       "      <td>PERMANENTE</td>\n",
       "      <td>ESPANHA</td>\n",
       "      <td>2</td>\n",
       "    </tr>\n",
       "    <tr>\n",
       "      <th>5</th>\n",
       "      <td>AC</td>\n",
       "      <td>ENTRADA</td>\n",
       "      <td>PERMANENTE</td>\n",
       "      <td>HAITI</td>\n",
       "      <td>4</td>\n",
       "    </tr>\n",
       "    <tr>\n",
       "      <th>6</th>\n",
       "      <td>AC</td>\n",
       "      <td>ENTRADA</td>\n",
       "      <td>PERMANENTE</td>\n",
       "      <td>PERU</td>\n",
       "      <td>68</td>\n",
       "    </tr>\n",
       "    <tr>\n",
       "      <th>7</th>\n",
       "      <td>AC</td>\n",
       "      <td>ENTRADA</td>\n",
       "      <td>PERMANENTE</td>\n",
       "      <td>PORTUGAL</td>\n",
       "      <td>4</td>\n",
       "    </tr>\n",
       "    <tr>\n",
       "      <th>8</th>\n",
       "      <td>AC</td>\n",
       "      <td>ENTRADA</td>\n",
       "      <td>PERMANENTE</td>\n",
       "      <td>URUGUAI</td>\n",
       "      <td>1</td>\n",
       "    </tr>\n",
       "    <tr>\n",
       "      <th>9</th>\n",
       "      <td>AC</td>\n",
       "      <td>ENTRADA</td>\n",
       "      <td>PERMANENTE</td>\n",
       "      <td>VENEZUELA</td>\n",
       "      <td>16</td>\n",
       "    </tr>\n",
       "  </tbody>\n",
       "</table>\n",
       "</div>"
      ],
      "text/plain": [
       "  UF_ATENDIMENTO     TIPO CLASSIFICACAO  \\\n",
       "0             AC  ENTRADA    PERMANENTE   \n",
       "1             AC  ENTRADA    PERMANENTE   \n",
       "2             AC  ENTRADA    PERMANENTE   \n",
       "3             AC  ENTRADA    PERMANENTE   \n",
       "4             AC  ENTRADA    PERMANENTE   \n",
       "5             AC  ENTRADA    PERMANENTE   \n",
       "6             AC  ENTRADA    PERMANENTE   \n",
       "7             AC  ENTRADA    PERMANENTE   \n",
       "8             AC  ENTRADA    PERMANENTE   \n",
       "9             AC  ENTRADA    PERMANENTE   \n",
       "\n",
       "                              NACIONALIDADE TOTAL  \n",
       "0  BOLÍVIA                                     17  \n",
       "1  CHILE                                        1  \n",
       "2  COLÔMBIA                                     3  \n",
       "3  CUBA                                         1  \n",
       "4  ESPANHA                                      2  \n",
       "5  HAITI                                        4  \n",
       "6  PERU                                        68  \n",
       "7  PORTUGAL                                     4  \n",
       "8  URUGUAI                                      1  \n",
       "9  VENEZUELA                                   16  "
      ]
     },
     "execution_count": 8,
     "metadata": {},
     "output_type": "execute_result"
    }
   ],
   "source": [
    "df_sti.head(10)"
   ]
  },
  {
   "cell_type": "code",
   "execution_count": 9,
   "metadata": {},
   "outputs": [
    {
     "data": {
      "text/html": [
       "<div>\n",
       "<style scoped>\n",
       "    .dataframe tbody tr th:only-of-type {\n",
       "        vertical-align: middle;\n",
       "    }\n",
       "\n",
       "    .dataframe tbody tr th {\n",
       "        vertical-align: top;\n",
       "    }\n",
       "\n",
       "    .dataframe thead th {\n",
       "        text-align: right;\n",
       "    }\n",
       "</style>\n",
       "<table border=\"1\" class=\"dataframe\">\n",
       "  <thead>\n",
       "    <tr style=\"text-align: right;\">\n",
       "      <th></th>\n",
       "      <th>UF_ATENDIMENTO</th>\n",
       "      <th>TIPO</th>\n",
       "      <th>CLASSIFICACAO</th>\n",
       "      <th>NACIONALIDADE</th>\n",
       "      <th>TOTAL</th>\n",
       "    </tr>\n",
       "  </thead>\n",
       "  <tbody>\n",
       "    <tr>\n",
       "      <th>11382</th>\n",
       "      <td>SP</td>\n",
       "      <td>SAIDA</td>\n",
       "      <td>TEMPORÁRIO</td>\n",
       "      <td>URUGUAI</td>\n",
       "      <td>4</td>\n",
       "    </tr>\n",
       "    <tr>\n",
       "      <th>11383</th>\n",
       "      <td>SP</td>\n",
       "      <td>SAIDA</td>\n",
       "      <td>TEMPORÁRIO</td>\n",
       "      <td>VENEZUELA</td>\n",
       "      <td>3</td>\n",
       "    </tr>\n",
       "    <tr>\n",
       "      <th>11384</th>\n",
       "      <td>SP</td>\n",
       "      <td>SAIDA</td>\n",
       "      <td>TEMPORÁRIO</td>\n",
       "      <td>VIETNÃ</td>\n",
       "      <td>1</td>\n",
       "    </tr>\n",
       "    <tr>\n",
       "      <th>11385</th>\n",
       "      <td>SP</td>\n",
       "      <td>SAIDA</td>\n",
       "      <td>TEMPORÁRIO</td>\n",
       "      <td>ZIMBÁBUE</td>\n",
       "      <td>5</td>\n",
       "    </tr>\n",
       "    <tr>\n",
       "      <th>11386</th>\n",
       "      <td>SP</td>\n",
       "      <td>SAIDA</td>\n",
       "      <td>TEMPORÁRIO</td>\n",
       "      <td>ÁFRICA DO SUL</td>\n",
       "      <td>24</td>\n",
       "    </tr>\n",
       "    <tr>\n",
       "      <th>11387</th>\n",
       "      <td>SP</td>\n",
       "      <td>SAIDA</td>\n",
       "      <td>TEMPORÁRIO</td>\n",
       "      <td>ÁUSTRIA</td>\n",
       "      <td>10</td>\n",
       "    </tr>\n",
       "    <tr>\n",
       "      <th>11388</th>\n",
       "      <td>SP</td>\n",
       "      <td>SAIDA</td>\n",
       "      <td>TEMPORÁRIO</td>\n",
       "      <td>ÍNDIA</td>\n",
       "      <td>55</td>\n",
       "    </tr>\n",
       "    <tr>\n",
       "      <th>11389</th>\n",
       "      <td>SP</td>\n",
       "      <td>SAIDA</td>\n",
       "      <td>OUTROS</td>\n",
       "      <td>BRASIL</td>\n",
       "      <td>#####</td>\n",
       "    </tr>\n",
       "    <tr>\n",
       "      <th>11390</th>\n",
       "      <td>SP</td>\n",
       "      <td>SAIDA</td>\n",
       "      <td>OUTROS</td>\n",
       "      <td>CHILE</td>\n",
       "      <td>1</td>\n",
       "    </tr>\n",
       "    <tr>\n",
       "      <th>11391</th>\n",
       "      <td>SP</td>\n",
       "      <td>SAIDA</td>\n",
       "      <td>OUTROS</td>\n",
       "      <td>PARAGUAI</td>\n",
       "      <td>1</td>\n",
       "    </tr>\n",
       "  </tbody>\n",
       "</table>\n",
       "</div>"
      ],
      "text/plain": [
       "      UF_ATENDIMENTO     TIPO CLASSIFICACAO  \\\n",
       "11382             SP  SAIDA      TEMPORÁRIO   \n",
       "11383             SP  SAIDA      TEMPORÁRIO   \n",
       "11384             SP  SAIDA      TEMPORÁRIO   \n",
       "11385             SP  SAIDA      TEMPORÁRIO   \n",
       "11386             SP  SAIDA      TEMPORÁRIO   \n",
       "11387             SP  SAIDA      TEMPORÁRIO   \n",
       "11388             SP  SAIDA      TEMPORÁRIO   \n",
       "11389             SP  SAIDA      OUTROS       \n",
       "11390             SP  SAIDA      OUTROS       \n",
       "11391             SP  SAIDA      OUTROS       \n",
       "\n",
       "                                  NACIONALIDADE  TOTAL  \n",
       "11382  URUGUAI                                       4  \n",
       "11383  VENEZUELA                                     3  \n",
       "11384  VIETNÃ                                        1  \n",
       "11385  ZIMBÁBUE                                      5  \n",
       "11386  ÁFRICA DO SUL                                24  \n",
       "11387  ÁUSTRIA                                      10  \n",
       "11388  ÍNDIA                                        55  \n",
       "11389  BRASIL                                    #####  \n",
       "11390  CHILE                                         1  \n",
       "11391  PARAGUAI                                      1  "
      ]
     },
     "execution_count": 9,
     "metadata": {},
     "output_type": "execute_result"
    }
   ],
   "source": [
    "df_sti.tail(10)"
   ]
  },
  {
   "cell_type": "code",
   "execution_count": 10,
   "metadata": {},
   "outputs": [
    {
     "data": {
      "text/plain": [
       "11392"
      ]
     },
     "execution_count": 10,
     "metadata": {},
     "output_type": "execute_result"
    }
   ],
   "source": [
    "len(df_sti)"
   ]
  },
  {
   "cell_type": "code",
   "execution_count": 12,
   "metadata": {},
   "outputs": [
    {
     "data": {
      "text/plain": [
       "(11392, 5)"
      ]
     },
     "execution_count": 12,
     "metadata": {},
     "output_type": "execute_result"
    }
   ],
   "source": [
    "df_sti.shape"
   ]
  },
  {
   "cell_type": "code",
   "execution_count": 13,
   "metadata": {},
   "outputs": [
    {
     "data": {
      "text/plain": [
       "5"
      ]
     },
     "execution_count": 13,
     "metadata": {},
     "output_type": "execute_result"
    }
   ],
   "source": [
    "df_sti.shape[1]"
   ]
  },
  {
   "cell_type": "code",
   "execution_count": 15,
   "metadata": {},
   "outputs": [
    {
     "data": {
      "text/plain": [
       "5"
      ]
     },
     "execution_count": 15,
     "metadata": {},
     "output_type": "execute_result"
    }
   ],
   "source": [
    "len(df_sti.columns)"
   ]
  },
  {
   "cell_type": "code",
   "execution_count": 16,
   "metadata": {},
   "outputs": [
    {
     "data": {
      "text/plain": [
       "Index(['UF_ATENDIMENTO', 'TIPO', 'CLASSIFICACAO', 'NACIONALIDADE', 'TOTAL'], dtype='object')"
      ]
     },
     "execution_count": 16,
     "metadata": {},
     "output_type": "execute_result"
    }
   ],
   "source": [
    "df_sti.columns"
   ]
  },
  {
   "cell_type": "code",
   "execution_count": 17,
   "metadata": {},
   "outputs": [],
   "source": [
    "df_sti.sort_values(by='TOTAL', ascending=False, inplace=True)"
   ]
  },
  {
   "cell_type": "code",
   "execution_count": 18,
   "metadata": {},
   "outputs": [
    {
     "data": {
      "text/html": [
       "<div>\n",
       "<style scoped>\n",
       "    .dataframe tbody tr th:only-of-type {\n",
       "        vertical-align: middle;\n",
       "    }\n",
       "\n",
       "    .dataframe tbody tr th {\n",
       "        vertical-align: top;\n",
       "    }\n",
       "\n",
       "    .dataframe thead th {\n",
       "        text-align: right;\n",
       "    }\n",
       "</style>\n",
       "<table border=\"1\" class=\"dataframe\">\n",
       "  <thead>\n",
       "    <tr style=\"text-align: right;\">\n",
       "      <th></th>\n",
       "      <th>UF_ATENDIMENTO</th>\n",
       "      <th>TIPO</th>\n",
       "      <th>CLASSIFICACAO</th>\n",
       "      <th>NACIONALIDADE</th>\n",
       "      <th>TOTAL</th>\n",
       "    </tr>\n",
       "  </thead>\n",
       "  <tbody>\n",
       "    <tr>\n",
       "      <th>6729</th>\n",
       "      <td>RJ</td>\n",
       "      <td>SAIDA</td>\n",
       "      <td>OUTROS</td>\n",
       "      <td>CHILE</td>\n",
       "      <td>998</td>\n",
       "    </tr>\n",
       "    <tr>\n",
       "      <th>10239</th>\n",
       "      <td>SP</td>\n",
       "      <td>SAIDA</td>\n",
       "      <td>VISITANTE</td>\n",
       "      <td>RÚSSIA</td>\n",
       "      <td>997</td>\n",
       "    </tr>\n",
       "    <tr>\n",
       "      <th>8726</th>\n",
       "      <td>SP</td>\n",
       "      <td>ENTRADA</td>\n",
       "      <td>PERMANENTE</td>\n",
       "      <td>PORTUGAL</td>\n",
       "      <td>992</td>\n",
       "    </tr>\n",
       "    <tr>\n",
       "      <th>3665</th>\n",
       "      <td>PA</td>\n",
       "      <td>SAIDA</td>\n",
       "      <td>VISITANTE</td>\n",
       "      <td>ESTADOS UNIDOS</td>\n",
       "      <td>990</td>\n",
       "    </tr>\n",
       "    <tr>\n",
       "      <th>9892</th>\n",
       "      <td>SP</td>\n",
       "      <td>ENTRADA</td>\n",
       "      <td>TEMPORÁRIO</td>\n",
       "      <td>CHINA</td>\n",
       "      <td>99</td>\n",
       "    </tr>\n",
       "    <tr>\n",
       "      <th>...</th>\n",
       "      <td>...</td>\n",
       "      <td>...</td>\n",
       "      <td>...</td>\n",
       "      <td>...</td>\n",
       "      <td>...</td>\n",
       "    </tr>\n",
       "    <tr>\n",
       "      <th>8329</th>\n",
       "      <td>SC</td>\n",
       "      <td>SAIDA</td>\n",
       "      <td>VISITANTE</td>\n",
       "      <td>ARGENTINA</td>\n",
       "      <td>#####</td>\n",
       "    </tr>\n",
       "    <tr>\n",
       "      <th>3045</th>\n",
       "      <td>MG</td>\n",
       "      <td>ENTRADA</td>\n",
       "      <td>OUTROS</td>\n",
       "      <td>BRASIL</td>\n",
       "      <td>#####</td>\n",
       "    </tr>\n",
       "    <tr>\n",
       "      <th>6025</th>\n",
       "      <td>RJ</td>\n",
       "      <td>ENTRADA</td>\n",
       "      <td>OUTROS</td>\n",
       "      <td>BRASIL</td>\n",
       "      <td>#####</td>\n",
       "    </tr>\n",
       "    <tr>\n",
       "      <th>6133</th>\n",
       "      <td>RJ</td>\n",
       "      <td>SAIDA</td>\n",
       "      <td>VISITANTE</td>\n",
       "      <td>ARGENTINA</td>\n",
       "      <td>#####</td>\n",
       "    </tr>\n",
       "    <tr>\n",
       "      <th>10163</th>\n",
       "      <td>SP</td>\n",
       "      <td>SAIDA</td>\n",
       "      <td>VISITANTE</td>\n",
       "      <td>ESTADOS UNIDOS</td>\n",
       "      <td>#####</td>\n",
       "    </tr>\n",
       "  </tbody>\n",
       "</table>\n",
       "<p>11392 rows × 5 columns</p>\n",
       "</div>"
      ],
      "text/plain": [
       "      UF_ATENDIMENTO     TIPO CLASSIFICACAO  \\\n",
       "6729              RJ  SAIDA      OUTROS       \n",
       "10239             SP  SAIDA      VISITANTE    \n",
       "8726              SP  ENTRADA    PERMANENTE   \n",
       "3665              PA  SAIDA      VISITANTE    \n",
       "9892              SP  ENTRADA    TEMPORÁRIO   \n",
       "...              ...      ...           ...   \n",
       "8329              SC  SAIDA      VISITANTE    \n",
       "3045              MG  ENTRADA    OUTROS       \n",
       "6025              RJ  ENTRADA    OUTROS       \n",
       "6133              RJ  SAIDA      VISITANTE    \n",
       "10163             SP  SAIDA      VISITANTE    \n",
       "\n",
       "                                  NACIONALIDADE  TOTAL  \n",
       "6729   CHILE                                       998  \n",
       "10239  RÚSSIA                                      997  \n",
       "8726   PORTUGAL                                    992  \n",
       "3665   ESTADOS UNIDOS                              990  \n",
       "9892   CHINA                                        99  \n",
       "...                                         ...    ...  \n",
       "8329   ARGENTINA                                 #####  \n",
       "3045   BRASIL                                    #####  \n",
       "6025   BRASIL                                    #####  \n",
       "6133   ARGENTINA                                 #####  \n",
       "10163  ESTADOS UNIDOS                            #####  \n",
       "\n",
       "[11392 rows x 5 columns]"
      ]
     },
     "execution_count": 18,
     "metadata": {},
     "output_type": "execute_result"
    }
   ],
   "source": [
    "df_sti"
   ]
  },
  {
   "cell_type": "code",
   "execution_count": 19,
   "metadata": {},
   "outputs": [
    {
     "data": {
      "text/plain": [
       "UF_ATENDIMENTO                                          SP\n",
       "TIPO                                               SAIDA  \n",
       "CLASSIFICACAO                                   VISITANTE \n",
       "NACIONALIDADE     ÍNDIA                                   \n",
       "TOTAL                                                  998\n",
       "dtype: object"
      ]
     },
     "execution_count": 19,
     "metadata": {},
     "output_type": "execute_result"
    }
   ],
   "source": [
    "df_sti.max()"
   ]
  }
 ],
 "metadata": {
  "kernelspec": {
   "display_name": "Python 3",
   "language": "python",
   "name": "python3"
  },
  "language_info": {
   "codemirror_mode": {
    "name": "ipython",
    "version": 3
   },
   "file_extension": ".py",
   "mimetype": "text/x-python",
   "name": "python",
   "nbconvert_exporter": "python",
   "pygments_lexer": "ipython3",
   "version": "3.12.3"
  }
 },
 "nbformat": 4,
 "nbformat_minor": 2
}
